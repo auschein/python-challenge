{
 "cells": [
  {
   "cell_type": "code",
   "execution_count": 10,
   "metadata": {},
   "outputs": [],
   "source": [
    "import os\n",
    "import csv"
   ]
  },
  {
   "cell_type": "code",
   "execution_count": 11,
   "metadata": {},
   "outputs": [],
   "source": [
    "csv_path = os.path.join(\"Resources\", \"budget_data.csv\")"
   ]
  },
  {
   "cell_type": "code",
   "execution_count": 12,
   "metadata": {},
   "outputs": [],
   "source": [
    "date = []\n",
    "profit_total = []\n",
    "nmonths = 0\n",
    "netpl = 0\n",
    "total = 0\n",
    "diff = 0"
   ]
  },
  {
   "cell_type": "code",
   "execution_count": 13,
   "metadata": {},
   "outputs": [],
   "source": [
    "with open(csv_path, newline = \"\") as infile:\n",
    "    reader = csv.reader(infile, delimiter = \",\")\n",
    "    header = next(reader)\n",
    "    row1 = next(reader)\n",
    "    nmonths += 1\n",
    "    total = total + int(row1[1])\n",
    "    #total += int(row1[1])\n",
    "    for row in reader:\n",
    "        date.append(row[0])\n",
    "        diff = int(row[1]) - total\n",
    "        profit_total.append(diff)\n",
    "        total = int(row[1])\n",
    "        nmonths += 1\n",
    "        netpl = netpl + int(row[1])    "
   ]
  },
  {
   "cell_type": "code",
   "execution_count": 14,
   "metadata": {},
   "outputs": [],
   "source": [
    "nmonths += 1\n",
    "netpl = netpl + int(row[1])\n",
    "diff = int(row[1]) - total\n",
    "profit_total.append(diff)\n",
    "total = int(row[1])\n",
    "\n"
   ]
  },
  {
   "cell_type": "code",
   "execution_count": 15,
   "metadata": {},
   "outputs": [],
   "source": [
    "inc = max(profit_total)\n",
    "dec = min(profit_total)\n",
    "profitsum = sum(profit_total)\n",
    "incindex = profit_total.index(inc)\n",
    "dateinc = date[incindex]\n",
    "decindex = profit_total.index(dec)\n",
    "datedec = date[decindex]\n",
    "avgchanges =profitsum/len(profit_total)"
   ]
  },
  {
   "cell_type": "code",
   "execution_count": 16,
   "metadata": {},
   "outputs": [
    {
     "name": "stdout",
     "output_type": "stream",
     "text": [
      "Financial Analysis:\n",
      "------------------\n",
      " Total Months: 87\n",
      " Total: 38185793\n",
      " Average Change: $-2288.2\n",
      "Greatest Increase In Profits: Feb-2012 $24\n",
      "Greatest Decrease In Profits: Sep-2013 $43\n"
     ]
    }
   ],
   "source": [
    "print(\"Financial Analysis:\")\n",
    "print(\"------------------\")\n",
    "print(f\" Total Months: {nmonths}\")\n",
    "print(f\" Total: {netpl}\")\n",
    "print(f\" Average Change: ${round(avgchanges,2)}\")\n",
    "print(f\"Greatest Increase In Profits: {dateinc} ${incindex}\")\n",
    "print(f\"Greatest Decrease In Profits: {datedec} ${decindex}\")"
   ]
  },
  {
   "cell_type": "code",
   "execution_count": 21,
   "metadata": {},
   "outputs": [
    {
     "ename": "AttributeError",
     "evalue": "'_csv.reader' object has no attribute 'readlines'",
     "output_type": "error",
     "traceback": [
      "\u001b[0;31m---------------------------------------------------------------------------\u001b[0m",
      "\u001b[0;31mAttributeError\u001b[0m                            Traceback (most recent call last)",
      "\u001b[0;32m<ipython-input-21-a1c61e193b4d>\u001b[0m in \u001b[0;36m<module>\u001b[0;34m\u001b[0m\n\u001b[1;32m      1\u001b[0m \u001b[0moutfile\u001b[0m \u001b[0;34m=\u001b[0m \u001b[0;34m'outfile.txt'\u001b[0m\u001b[0;34m\u001b[0m\u001b[0;34m\u001b[0m\u001b[0m\n\u001b[1;32m      2\u001b[0m \u001b[0;32mwith\u001b[0m \u001b[0mopen\u001b[0m\u001b[0;34m(\u001b[0m\u001b[0;34m\"outfile.txt\"\u001b[0m\u001b[0;34m,\u001b[0m \u001b[0;34m\"w\"\u001b[0m\u001b[0;34m)\u001b[0m\u001b[0;34m:\u001b[0m\u001b[0;34m\u001b[0m\u001b[0;34m\u001b[0m\u001b[0m\n\u001b[0;32m----> 3\u001b[0;31m     \u001b[0mlines\u001b[0m \u001b[0;34m=\u001b[0m \u001b[0mreader\u001b[0m\u001b[0;34m.\u001b[0m\u001b[0mreadlines\u001b[0m\u001b[0;34m(\u001b[0m\u001b[0;34m)\u001b[0m\u001b[0;34m\u001b[0m\u001b[0;34m\u001b[0m\u001b[0m\n\u001b[0m\u001b[1;32m      4\u001b[0m \u001b[0;32mfor\u001b[0m \u001b[0mline\u001b[0m \u001b[0;32min\u001b[0m \u001b[0mlines\u001b[0m\u001b[0;34m:\u001b[0m\u001b[0;34m\u001b[0m\u001b[0;34m\u001b[0m\u001b[0m\n\u001b[1;32m      5\u001b[0m     \u001b[0;31m#outfile.write('{}\\n{}\\n{}\\n{}\\n{}\\n{}\\n{}\\n'.format(l1,l2,l3,l4,l5,l6,l7))\u001b[0m\u001b[0;34m\u001b[0m\u001b[0;34m\u001b[0m\u001b[0;34m\u001b[0m\u001b[0m\n",
      "\u001b[0;31mAttributeError\u001b[0m: '_csv.reader' object has no attribute 'readlines'"
     ]
    }
   ],
   "source": [
    "outfile = 'outfile.txt'\n",
    "with open(\"outfile.txt\", \"w\"):\n",
    "    lines = reader.readlines()\n",
    "for line in lines:\n",
    "    #outfile.write('{}\\n{}\\n{}\\n{}\\n{}\\n{}\\n{}\\n'.format(l1,l2,l3,l4,l5,l6,l7))\n",
    "    l1=(\"Financial Analysis:\")\n",
    "    l2=(\"------------------\")\n",
    "    l3=(f\" Total Months: {nmonths}\")\n",
    "    l4=(f\" Total: {netpl}\")\n",
    "    l5=(f\" Average Change: ${round(avgchanges,2)}\")\n",
    "    l6=(f\"Greatest Increase In Profits: {dateinc} ${incindex}\")\n",
    "    l7=(f\"Greatest Decrease In Profits: {datedec} ${decindex}\")"
   ]
  },
  {
   "cell_type": "code",
   "execution_count": null,
   "metadata": {},
   "outputs": [],
   "source": []
  }
 ],
 "metadata": {
  "kernelspec": {
   "display_name": "Conda [PythonData]",
   "language": "python",
   "name": "pythondata"
  },
  "language_info": {
   "codemirror_mode": {
    "name": "ipython",
    "version": 3
   },
   "file_extension": ".py",
   "mimetype": "text/x-python",
   "name": "python",
   "nbconvert_exporter": "python",
   "pygments_lexer": "ipython3",
   "version": "3.7.3"
  }
 },
 "nbformat": 4,
 "nbformat_minor": 2
}
